{
  "nbformat": 4,
  "nbformat_minor": 0,
  "metadata": {
    "colab": {
      "name": "python_basics.ipynb",
      "provenance": [],
      "authorship_tag": "ABX9TyNsQVDuMS+eF1CTO2vxMNB0",
      "include_colab_link": true
    },
    "kernelspec": {
      "name": "python3",
      "display_name": "Python 3"
    }
  },
  "cells": [
    {
      "cell_type": "markdown",
      "metadata": {
        "id": "view-in-github",
        "colab_type": "text"
      },
      "source": [
        "<a href=\"https://colab.research.google.com/github/Anwita-exe/learning-python/blob/master/python_basics.ipynb\" target=\"_parent\"><img src=\"https://colab.research.google.com/assets/colab-badge.svg\" alt=\"Open In Colab\"/></a>"
      ]
    },
    {
      "cell_type": "markdown",
      "metadata": {
        "id": "QV4J-b4zVadc",
        "colab_type": "text"
      },
      "source": [
        "Adding ten and three"
      ]
    },
    {
      "cell_type": "code",
      "metadata": {
        "id": "e6kNF2hqVBYh",
        "colab_type": "code",
        "colab": {
          "base_uri": "https://localhost:8080/",
          "height": 34
        },
        "outputId": "3f02fae0-cbb1-42e2-d3dd-4ef1ed2cabad"
      },
      "source": [
        "10 + 3"
      ],
      "execution_count": 1,
      "outputs": [
        {
          "output_type": "execute_result",
          "data": {
            "text/plain": [
              "13"
            ]
          },
          "metadata": {
            "tags": []
          },
          "execution_count": 1
        }
      ]
    },
    {
      "cell_type": "markdown",
      "metadata": {
        "id": "MfN9gzIvVuzX",
        "colab_type": "text"
      },
      "source": [
        "display \"hello world\""
      ]
    },
    {
      "cell_type": "code",
      "metadata": {
        "id": "FrVIImbhVuX7",
        "colab_type": "code",
        "colab": {
          "base_uri": "https://localhost:8080/",
          "height": 34
        },
        "outputId": "4483ccab-87a3-4fb1-e91a-79782ab877f2"
      },
      "source": [
        "print(\"Hello World\")"
      ],
      "execution_count": 2,
      "outputs": [
        {
          "output_type": "stream",
          "text": [
            "Hello World\n"
          ],
          "name": "stdout"
        }
      ]
    },
    {
      "cell_type": "markdown",
      "metadata": {
        "id": "iCcS1RfwV-Wr",
        "colab_type": "text"
      },
      "source": [
        "display some basic maths"
      ]
    },
    {
      "cell_type": "code",
      "metadata": {
        "id": "ATvML9qYWCZa",
        "colab_type": "code",
        "colab": {
          "base_uri": "https://localhost:8080/",
          "height": 118
        },
        "outputId": "2067eeaf-23d9-4d38-d5ba-39a928cf0087"
      },
      "source": [
        "print('10 + 3 = ', 10 + 3)\n",
        "print('10 - 3 = ', 10 - 3)\n",
        "print('10 / 3 = ', 10 / 3)\n",
        "print('10 // 3 = ', 10 // 3)\n",
        "print('10 % 3 = ', 10 % 3)\n",
        "print('10 * 3 = ',10 * 3)"
      ],
      "execution_count": 3,
      "outputs": [
        {
          "output_type": "stream",
          "text": [
            "10 + 3 =  13\n",
            "10 - 3 =  7\n",
            "10 / 3 =  3.3333333333333335\n",
            "10 // 3 =  3\n",
            "10 % 3 =  1\n",
            "10 * 3 =  30\n"
          ],
          "name": "stdout"
        }
      ]
    },
    {
      "cell_type": "markdown",
      "metadata": {
        "id": "2XBoQUC0XFIz",
        "colab_type": "text"
      },
      "source": [
        "Accept User input"
      ]
    },
    {
      "cell_type": "code",
      "metadata": {
        "id": "SUS5hCDMXB3e",
        "colab_type": "code",
        "colab": {
          "base_uri": "https://localhost:8080/",
          "height": 50
        },
        "outputId": "11a7bae6-50d9-4244-9700-28c76d15e367"
      },
      "source": [
        "name = input(\"Enter your name: \")\n",
        "print(\"Your name is\", name)"
      ],
      "execution_count": 4,
      "outputs": [
        {
          "output_type": "stream",
          "text": [
            "Enter your name: Anwita Sekhar\n",
            "Your name is Anwita Sekhar\n"
          ],
          "name": "stdout"
        }
      ]
    },
    {
      "cell_type": "markdown",
      "metadata": {
        "id": "PC8chlTWVgji",
        "colab_type": "text"
      },
      "source": [
        "Create  a program to add two numbers"
      ]
    },
    {
      "cell_type": "code",
      "metadata": {
        "id": "GU7_viC5VY6U",
        "colab_type": "code",
        "colab": {
          "base_uri": "https://localhost:8080/",
          "height": 67
        },
        "outputId": "beb8cd21-3957-445c-af47-65b96e461977"
      },
      "source": [
        "a = input(\"Enter the first number \")\n",
        "b = input(\"Enter the second number \")\n",
        "\n",
        "a = int(a)\n",
        "b = int(b)\n",
        "\n",
        "print('sum = ', a+b)"
      ],
      "execution_count": 6,
      "outputs": [
        {
          "output_type": "stream",
          "text": [
            "Enter the first number 5\n",
            "Enter the second number 6\n",
            "sum =  11\n"
          ],
          "name": "stdout"
        }
      ]
    },
    {
      "cell_type": "markdown",
      "metadata": {
        "id": "mgUa3YH6YTiW",
        "colab_type": "text"
      },
      "source": [
        "Question: Write a program to take in the UserName and accept 5 subject's marks and calculate his total marks.\n",
        "\n",
        "The 5 subjects are:\n",
        "1. maths\n",
        "2. science\n",
        "3. history\n",
        "4. geography\n",
        "5. marathi\n",
        "\n",
        "Output should be like this:\n",
        "\n",
        "```\n",
        "output:\n",
        "Student Name: Aman Priyanshu\n",
        "Marks in Maths: 100\n",
        "Marks in Science: 100\n",
        "Marks in history: 100\n",
        "Marks in Geography: 100\n",
        "Marks in Marathi: 100\n",
        "Total Marks: 500\n",
        "```"
      ]
    },
    {
      "cell_type": "code",
      "metadata": {
        "id": "wTRCwrEnYBg1",
        "colab_type": "code",
        "colab": {
          "base_uri": "https://localhost:8080/",
          "height": 34
        },
        "outputId": "4773f90d-cac0-4ba3-fb62-d4734eadf9bb"
      },
      "source": [
        "print(\"Hi there!\")\n"
      ],
      "execution_count": 7,
      "outputs": [
        {
          "output_type": "stream",
          "text": [
            "Hi there!\n"
          ],
          "name": "stdout"
        }
      ]
    },
    {
      "cell_type": "code",
      "metadata": {
        "id": "QA3_9RS7aMIU",
        "colab_type": "code",
        "colab": {
          "base_uri": "https://localhost:8080/",
          "height": 50
        },
        "outputId": "5aa6ace8-8321-4107-c2b2-cf55e1c67d23"
      },
      "source": [
        "name=input(\"Enter your name here:\")\n",
        "print(\"Hey\",name,\"! Tell me your marks for the following subjects out of 80:\")"
      ],
      "execution_count": 8,
      "outputs": [
        {
          "output_type": "stream",
          "text": [
            "Enter your name here:Anwita Sekhar\n",
            "Hey Anwita Sekhar ! Tell me your marks for the following subjects out of 80:\n"
          ],
          "name": "stdout"
        }
      ]
    },
    {
      "cell_type": "code",
      "metadata": {
        "id": "PXSb2QtmbRWD",
        "colab_type": "code",
        "colab": {
          "base_uri": "https://localhost:8080/",
          "height": 101
        },
        "outputId": "4f60802a-f99e-4192-ec13-4ea4eed8dd3a"
      },
      "source": [
        "maths=input(\"Maths marks:\")\n",
        "science=input(\"Science marks:\")\n",
        "history=input(\"History marks:\")\n",
        "geography=input(\"Geography marks:\")\n",
        "marathi=input(\"Marathi marks:\")\n"
      ],
      "execution_count": 10,
      "outputs": [
        {
          "output_type": "stream",
          "text": [
            "Maths marks:70\n",
            "Science marks:79\n",
            "History marks:73\n",
            "Geography marks:78\n",
            "Marathi marks:71\n"
          ],
          "name": "stdout"
        }
      ]
    },
    {
      "cell_type": "code",
      "metadata": {
        "id": "Q7RIgWtZc3Yh",
        "colab_type": "code",
        "colab": {}
      },
      "source": [
        "maths = int(maths)\n",
        "science = int(science)\n",
        "history = int(history)\n",
        "geography = int(geography)\n",
        "marathi = int(marathi)"
      ],
      "execution_count": 11,
      "outputs": []
    },
    {
      "cell_type": "code",
      "metadata": {
        "id": "xcjnWTAZj2l5",
        "colab_type": "code",
        "colab": {}
      },
      "source": [
        "total= maths + science + history + geography + marathi\n",
        "average= total/5\n",
        "percentage= (total/400)*100"
      ],
      "execution_count": 12,
      "outputs": []
    },
    {
      "cell_type": "code",
      "metadata": {
        "id": "WbAhB402dQ9X",
        "colab_type": "code",
        "colab": {
          "base_uri": "https://localhost:8080/",
          "height": 168
        },
        "outputId": "c8a5a2a5-19de-48e2-ea85-045ed82815bc"
      },
      "source": [
        "print(\"Student name-\", name)\n",
        "print(\"Marks in Maths-\", maths)\n",
        "print(\"Marks in Science-\", science)\n",
        "print(\"Marks in History-\", history)\n",
        "print(\"Marks in Geography-\", geography)\n",
        "print(\"Marks in Marathi-\", marathi)\n",
        "print(\"Your total marks are:\", total)\n",
        "print(\"Your average marks are:\", average)\n",
        "print(\"Your total percentage is:\", percentage,\"%\")"
      ],
      "execution_count": 13,
      "outputs": [
        {
          "output_type": "stream",
          "text": [
            "Student name- Anwita Sekhar\n",
            "Marks in Maths- 70\n",
            "Marks in Science- 79\n",
            "Marks in History- 73\n",
            "Marks in Geography- 78\n",
            "Marks in Marathi- 71\n",
            "Your total marks are: 371\n",
            "Your average marks are: 74.2\n",
            "Your total percentage is: 92.75 %\n"
          ],
          "name": "stdout"
        }
      ]
    },
    {
      "cell_type": "code",
      "metadata": {
        "id": "ecWzIGysm5EZ",
        "colab_type": "code",
        "colab": {}
      },
      "source": [
        ""
      ],
      "execution_count": null,
      "outputs": []
    }
  ]
}